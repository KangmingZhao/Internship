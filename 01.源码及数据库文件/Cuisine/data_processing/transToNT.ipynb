{
 "cells": [
  {
   "cell_type": "markdown",
   "metadata": {},
   "source": [
    "### **StartCommand**\n",
    "\n",
    "* 启动 ***fuseki*** 框架 \n",
    "`java -jar fuseki-server.jar`\n",
    "\n",
    "* 启动 ***Django*** 项目\n",
    "`python manage.py runserver 0.0.0.0:8080`\n",
    "\n",
    "* 项目主页面网址\n",
    "`http://127.0.0.1:8080/recipe_knowledge_graph/`\n"
   ]
  },
  {
   "cell_type": "markdown",
   "metadata": {},
   "source": [
    "###  实现从 ***csv*** 到 ***nt*** 文件的转换\n",
    "\n",
    "* 为了方便 SPARQL 查询 添加前缀，转换成 nt 文件所需的三元组"
   ]
  },
  {
   "cell_type": "code",
   "execution_count": null,
   "metadata": {},
   "outputs": [
    {
     "name": "stdout",
     "output_type": "stream",
     "text": [
      "转换完成\n"
     ]
    }
   ],
   "source": [
    "# Read the data from the CSV file\n",
    "import csv\n",
    "\n",
    "csv_file = r\"C:\\Users\\咆哮的小清新\\Desktop\\实习实训\\Final_Project\\Cuisine\\code\\菜品.csv\"\n",
    "rdf_data = []\n",
    "\n",
    "with open(csv_file, newline=\"\", encoding=\"utf-8-sig\") as file:\n",
    "\n",
    "    reader = csv.DictReader(file)\n",
    "    for row in reader:\n",
    "        if ' ' not in row['菜品名']:\n",
    "            subject = f\"<http://kg.course/ai-food-time/{row['菜品名']}>\"\n",
    "            triples = [\n",
    "                (subject, \"<http://kg.course/ai-food-time/特色>\", f'\"口味：{row[\"口味\"]}\"'),\n",
    "                (subject, \"<http://kg.course/ai-food-time/特色>\", f'\"工艺：{row[\"工艺\"]}\"'),\n",
    "                (subject, \"<http://kg.course/ai-food-time/特色>\", f'\"耗时：{row[\"耗时\"]}\"'),\n",
    "                (subject, \"<http://kg.course/ai-food-time/特色>\", f'\"难度：{row[\"难度\"]}\"'),\n",
    "                (subject, \"<http://kg.course/ai-food-time/口味>\", f'\"{row[\"口味\"]}\"'),\n",
    "                (subject, \"<http://kg.course/ai-food-time/工艺>\", f'\"{row[\"工艺\"]}\"'),\n",
    "                (subject, \"<http://kg.course/ai-food-time/耗时>\", f'\"{row[\"耗时\"]}\"'),\n",
    "                (subject, \"<http://kg.course/ai-food-time/难度>\", f'\"{row[\"难度\"]}\"'),\n",
    "            ]\n",
    "            rdf_data.extend(triples)\n",
    "    \n",
    "        else:\n",
    "            pass\n",
    "        \n",
    "# Convert RDF triples into N-Triples format\n",
    "nt_data = [f\"{triple[0]} {triple[1]} {triple[2]} .\" for triple in rdf_data]\n",
    "\n",
    "\n",
    "# Save N-Triples data into an NT file\n",
    "nt_file = r\"C:\\Users\\咆哮的小清新\\Desktop\\实习实训\\Final_Project\\Cuisine\\code\\m_ntriples.nt\"\n",
    "with open(nt_file, \"w\", encoding=\"utf-8\") as file:\n",
    "    file.write(\"\\n\".join(nt_data))\n",
    "\n",
    "print(\"转换完成\")\n"
   ]
  },
  {
   "cell_type": "code",
   "execution_count": null,
   "metadata": {},
   "outputs": [
    {
     "name": "stdout",
     "output_type": "stream",
     "text": [
      "转换完成\n"
     ]
    }
   ],
   "source": [
    "\n",
    "csv_file = r\"C:\\Users\\咆哮的小清新\\Desktop\\实习实训\\Final_Project\\Cuisine\\code\\原料_菜品.csv\"\n",
    "rdf_data = []\n",
    "\n",
    "# Read the data from the CSV file using 'utf-8-sig' encoding to remove the BOM\n",
    "with open(csv_file, newline=\"\", encoding=\"utf-8-sig\") as file:\n",
    "    reader = csv.DictReader(file)\n",
    "    for row in reader:\n",
    "        if ' ' not in row['菜品名']:\n",
    "            subject = f\"<http://kg.course/ai-food-time/{row['菜品名']}>\"\n",
    "            predicate = \"<http://kg.course/ai-food-time/用料>\"\n",
    "            obj = f'\"{row[\"原料名\"]}: {row[\"用量\"]}\"'\n",
    "            rdf_data.append((subject, predicate, obj))\n",
    "        else:\n",
    "            pass\n",
    "\n",
    "# Convert RDF triples into N-Triples format\n",
    "nt_data = [f\"{triple[0]} {triple[1]} {triple[2]} .\" for triple in rdf_data]\n",
    "\n",
    "# Save N-Triples data into an NT file\n",
    "nt_file = r\"C:\\Users\\咆哮的小清新\\Desktop\\实习实训\\Final_Project\\Cuisine\\code\\n_ntriples.nt\"\n",
    "with open(nt_file, \"a\", encoding=\"utf-8\") as file:\n",
    "    file.write(\"\\n\".join(nt_data))\n",
    "\n",
    "print(\"转换完成\")\n"
   ]
  },
  {
   "cell_type": "code",
   "execution_count": null,
   "metadata": {},
   "outputs": [
    {
     "name": "stdout",
     "output_type": "stream",
     "text": [
      "转换完成\n"
     ]
    }
   ],
   "source": [
    "\n",
    "csv_file = r\"C:\\Users\\咆哮的小清新\\Desktop\\实习实训\\Final_Project\\Cuisine\\code\\菜品_菜系.csv\"\n",
    "rdf_data = []\n",
    "\n",
    "with open(csv_file, newline=\"\", encoding=\"utf-8-sig\") as file:\n",
    "    reader = csv.DictReader(file)\n",
    "    for row in reader:\n",
    "        subject = f\"<http://kg.course/ai-food-time/{row['菜系']}>\"\n",
    "        predicate = f\"<http://kg.course/ai-food-time/包含>\"\n",
    "        obj = f'\"{row[\"菜品名\"]}\"'\n",
    "        \n",
    "        triple = (subject, predicate, obj)\n",
    "        rdf_data.append(triple)\n",
    "\n",
    "# Convert RDF triples into N-Triples format\n",
    "nt_data = [f\"{triple[0]} {triple[1]} {triple[2]} .\" for triple in rdf_data]\n",
    "\n",
    "# Save N-Triples data into an NT file\n",
    "nt_file = r\"C:\\Users\\咆哮的小清新\\Desktop\\实习实训\\Final_Project\\Cuisine\\code\\q_ntriples.nt\"\n",
    "with open(nt_file, \"w\", encoding=\"utf-8\") as file:\n",
    "    file.write(\"\\n\".join(nt_data))\n",
    "\n",
    "print(\"转换完成\")\n"
   ]
  },
  {
   "cell_type": "code",
   "execution_count": null,
   "metadata": {},
   "outputs": [
    {
     "name": "stdout",
     "output_type": "stream",
     "text": [
      "转换完成\n"
     ]
    }
   ],
   "source": [
    "\n",
    "csv_file = r\"C:\\Users\\咆哮的小清新\\Desktop\\实习实训\\Final_Project\\Cuisine\\code\\菜系.csv\"\n",
    "rdf_data = []\n",
    "\n",
    "with open(csv_file, newline=\"\", encoding=\"utf-8-sig\") as file:\n",
    "    reader = csv.DictReader(file)\n",
    "    for row in reader:\n",
    "        subject = f\"<http://kg.course/ai-food-time/{row['菜系名']}>\"\n",
    "        predicate = f\"<http://kg.course/ai-food-time/名称>\"\n",
    "        obj = f'\"{row[\"菜系名\"]}\"'\n",
    "        \n",
    "        triple = (subject, predicate, obj)\n",
    "        rdf_data.append(triple)\n",
    "\n",
    "# Convert RDF triples into N-Triples format\n",
    "nt_data = [f\"{triple[0]} {triple[1]} {triple[2]} .\" for triple in rdf_data]\n",
    "\n",
    "# Save N-Triples data into an NT file\n",
    "nt_file = r\"C:\\Users\\咆哮的小清新\\Desktop\\实习实训\\Final_Project\\Cuisine\\code\\l_ntriples.nt\"\n",
    "with open(nt_file, \"w\", encoding=\"utf-8\") as file:\n",
    "    file.write(\"\\n\".join(nt_data))\n",
    "\n",
    "print(\"转换完成\")"
   ]
  }
 ],
 "metadata": {
  "kernelspec": {
   "display_name": "Python 3",
   "language": "python",
   "name": "python3"
  },
  "language_info": {
   "codemirror_mode": {
    "name": "ipython",
    "version": 3
   },
   "file_extension": ".py",
   "mimetype": "text/x-python",
   "name": "python",
   "nbconvert_exporter": "python",
   "pygments_lexer": "ipython3",
   "version": "3.10.7"
  },
  "orig_nbformat": 4
 },
 "nbformat": 4,
 "nbformat_minor": 2
}
